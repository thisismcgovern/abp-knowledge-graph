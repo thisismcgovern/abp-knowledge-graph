{
  "nbformat": 4,
  "nbformat_minor": 0,
  "metadata": {
    "colab": {
      "provenance": [],
      "authorship_tag": "ABX9TyMchcszDzGrbdHqAtpLdY3M",
      "include_colab_link": true
    },
    "kernelspec": {
      "name": "python3",
      "display_name": "Python 3"
    },
    "language_info": {
      "name": "python"
    }
  },
  "cells": [
    {
      "cell_type": "markdown",
      "metadata": {
        "id": "view-in-github",
        "colab_type": "text"
      },
      "source": [
        "<a href=\"https://colab.research.google.com/github/thisismcgovern/abp-knowledge-graph/blob/main/abp_knowledge_graph.ipynb\" target=\"_parent\"><img src=\"https://colab.research.google.com/assets/colab-badge.svg\" alt=\"Open In Colab\"/></a>"
      ]
    },
    {
      "cell_type": "markdown",
      "source": [
        "\n",
        "HI\n",
        "\n"
      ],
      "metadata": {
        "id": "LQJLPbtzVNsE"
      }
    },
    {
      "cell_type": "code",
      "execution_count": null,
      "metadata": {
        "colab": {
          "base_uri": "https://localhost:8080/",
          "height": 73
        },
        "collapsed": true,
        "id": "FsUbgEo0gHgW",
        "outputId": "94d01a2a-37ce-4969-a50a-865b5273d4f8"
      },
      "outputs": [
        {
          "output_type": "display_data",
          "data": {
            "text/plain": [
              "<IPython.core.display.HTML object>"
            ],
            "text/html": [
              "\n",
              "     <input type=\"file\" id=\"files-8db3d9fe-249f-4124-bc00-3c1c996be22a\" name=\"files[]\" multiple disabled\n",
              "        style=\"border:none\" />\n",
              "     <output id=\"result-8db3d9fe-249f-4124-bc00-3c1c996be22a\">\n",
              "      Upload widget is only available when the cell has been executed in the\n",
              "      current browser session. Please rerun this cell to enable.\n",
              "      </output>\n",
              "      <script>// Copyright 2017 Google LLC\n",
              "//\n",
              "// Licensed under the Apache License, Version 2.0 (the \"License\");\n",
              "// you may not use this file except in compliance with the License.\n",
              "// You may obtain a copy of the License at\n",
              "//\n",
              "//      http://www.apache.org/licenses/LICENSE-2.0\n",
              "//\n",
              "// Unless required by applicable law or agreed to in writing, software\n",
              "// distributed under the License is distributed on an \"AS IS\" BASIS,\n",
              "// WITHOUT WARRANTIES OR CONDITIONS OF ANY KIND, either express or implied.\n",
              "// See the License for the specific language governing permissions and\n",
              "// limitations under the License.\n",
              "\n",
              "/**\n",
              " * @fileoverview Helpers for google.colab Python module.\n",
              " */\n",
              "(function(scope) {\n",
              "function span(text, styleAttributes = {}) {\n",
              "  const element = document.createElement('span');\n",
              "  element.textContent = text;\n",
              "  for (const key of Object.keys(styleAttributes)) {\n",
              "    element.style[key] = styleAttributes[key];\n",
              "  }\n",
              "  return element;\n",
              "}\n",
              "\n",
              "// Max number of bytes which will be uploaded at a time.\n",
              "const MAX_PAYLOAD_SIZE = 100 * 1024;\n",
              "\n",
              "function _uploadFiles(inputId, outputId) {\n",
              "  const steps = uploadFilesStep(inputId, outputId);\n",
              "  const outputElement = document.getElementById(outputId);\n",
              "  // Cache steps on the outputElement to make it available for the next call\n",
              "  // to uploadFilesContinue from Python.\n",
              "  outputElement.steps = steps;\n",
              "\n",
              "  return _uploadFilesContinue(outputId);\n",
              "}\n",
              "\n",
              "// This is roughly an async generator (not supported in the browser yet),\n",
              "// where there are multiple asynchronous steps and the Python side is going\n",
              "// to poll for completion of each step.\n",
              "// This uses a Promise to block the python side on completion of each step,\n",
              "// then passes the result of the previous step as the input to the next step.\n",
              "function _uploadFilesContinue(outputId) {\n",
              "  const outputElement = document.getElementById(outputId);\n",
              "  const steps = outputElement.steps;\n",
              "\n",
              "  const next = steps.next(outputElement.lastPromiseValue);\n",
              "  return Promise.resolve(next.value.promise).then((value) => {\n",
              "    // Cache the last promise value to make it available to the next\n",
              "    // step of the generator.\n",
              "    outputElement.lastPromiseValue = value;\n",
              "    return next.value.response;\n",
              "  });\n",
              "}\n",
              "\n",
              "/**\n",
              " * Generator function which is called between each async step of the upload\n",
              " * process.\n",
              " * @param {string} inputId Element ID of the input file picker element.\n",
              " * @param {string} outputId Element ID of the output display.\n",
              " * @return {!Iterable<!Object>} Iterable of next steps.\n",
              " */\n",
              "function* uploadFilesStep(inputId, outputId) {\n",
              "  const inputElement = document.getElementById(inputId);\n",
              "  inputElement.disabled = false;\n",
              "\n",
              "  const outputElement = document.getElementById(outputId);\n",
              "  outputElement.innerHTML = '';\n",
              "\n",
              "  const pickedPromise = new Promise((resolve) => {\n",
              "    inputElement.addEventListener('change', (e) => {\n",
              "      resolve(e.target.files);\n",
              "    });\n",
              "  });\n",
              "\n",
              "  const cancel = document.createElement('button');\n",
              "  inputElement.parentElement.appendChild(cancel);\n",
              "  cancel.textContent = 'Cancel upload';\n",
              "  const cancelPromise = new Promise((resolve) => {\n",
              "    cancel.onclick = () => {\n",
              "      resolve(null);\n",
              "    };\n",
              "  });\n",
              "\n",
              "  // Wait for the user to pick the files.\n",
              "  const files = yield {\n",
              "    promise: Promise.race([pickedPromise, cancelPromise]),\n",
              "    response: {\n",
              "      action: 'starting',\n",
              "    }\n",
              "  };\n",
              "\n",
              "  cancel.remove();\n",
              "\n",
              "  // Disable the input element since further picks are not allowed.\n",
              "  inputElement.disabled = true;\n",
              "\n",
              "  if (!files) {\n",
              "    return {\n",
              "      response: {\n",
              "        action: 'complete',\n",
              "      }\n",
              "    };\n",
              "  }\n",
              "\n",
              "  for (const file of files) {\n",
              "    const li = document.createElement('li');\n",
              "    li.append(span(file.name, {fontWeight: 'bold'}));\n",
              "    li.append(span(\n",
              "        `(${file.type || 'n/a'}) - ${file.size} bytes, ` +\n",
              "        `last modified: ${\n",
              "            file.lastModifiedDate ? file.lastModifiedDate.toLocaleDateString() :\n",
              "                                    'n/a'} - `));\n",
              "    const percent = span('0% done');\n",
              "    li.appendChild(percent);\n",
              "\n",
              "    outputElement.appendChild(li);\n",
              "\n",
              "    const fileDataPromise = new Promise((resolve) => {\n",
              "      const reader = new FileReader();\n",
              "      reader.onload = (e) => {\n",
              "        resolve(e.target.result);\n",
              "      };\n",
              "      reader.readAsArrayBuffer(file);\n",
              "    });\n",
              "    // Wait for the data to be ready.\n",
              "    let fileData = yield {\n",
              "      promise: fileDataPromise,\n",
              "      response: {\n",
              "        action: 'continue',\n",
              "      }\n",
              "    };\n",
              "\n",
              "    // Use a chunked sending to avoid message size limits. See b/62115660.\n",
              "    let position = 0;\n",
              "    do {\n",
              "      const length = Math.min(fileData.byteLength - position, MAX_PAYLOAD_SIZE);\n",
              "      const chunk = new Uint8Array(fileData, position, length);\n",
              "      position += length;\n",
              "\n",
              "      const base64 = btoa(String.fromCharCode.apply(null, chunk));\n",
              "      yield {\n",
              "        response: {\n",
              "          action: 'append',\n",
              "          file: file.name,\n",
              "          data: base64,\n",
              "        },\n",
              "      };\n",
              "\n",
              "      let percentDone = fileData.byteLength === 0 ?\n",
              "          100 :\n",
              "          Math.round((position / fileData.byteLength) * 100);\n",
              "      percent.textContent = `${percentDone}% done`;\n",
              "\n",
              "    } while (position < fileData.byteLength);\n",
              "  }\n",
              "\n",
              "  // All done.\n",
              "  yield {\n",
              "    response: {\n",
              "      action: 'complete',\n",
              "    }\n",
              "  };\n",
              "}\n",
              "\n",
              "scope.google = scope.google || {};\n",
              "scope.google.colab = scope.google.colab || {};\n",
              "scope.google.colab._files = {\n",
              "  _uploadFiles,\n",
              "  _uploadFilesContinue,\n",
              "};\n",
              "})(self);\n",
              "</script> "
            ]
          },
          "metadata": {}
        },
        {
          "output_type": "stream",
          "name": "stdout",
          "text": [
            "Saving synthetic_abp_data_100.csv to synthetic_abp_data_100 (1).csv\n"
          ]
        }
      ],
      "source": [
        "import pandas as pd\n",
        "import matplotlib.pyplot as plt\n",
        "import seaborn as sns\n",
        "import numpy as np\n",
        "\n",
        "from google.colab import files\n",
        "uploaded = files.upload()"
      ]
    },
    {
      "cell_type": "code",
      "source": [
        "df = pd.read_csv('synthetic_abp_data_100.csv')\n",
        "print(df.head())\n",
        "print(df.tail())"
      ],
      "metadata": {
        "colab": {
          "base_uri": "https://localhost:8080/"
        },
        "collapsed": true,
        "id": "luYnV9g6rfMp",
        "outputId": "2a46de10-ed1d-4d57-ad02-e44f9513ac56"
      },
      "execution_count": null,
      "outputs": [
        {
          "output_type": "stream",
          "name": "stdout",
          "text": [
            "  patient_id         name  age sex sensor_id         sensor_type signal_id  \\\n",
            "0       P001  Patient_001   63   M      S001  PressureTransducer    SIG001   \n",
            "1       P002  Patient_002   67   M      S002  PressureTransducer    SIG002   \n",
            "2       P003  Patient_003   43   F      S003  PressureTransducer    SIG003   \n",
            "3       P004  Patient_004   48   F      S004  PressureTransducer    SIG004   \n",
            "4       P005  Patient_005   77   F      S005  PressureTransducer    SIG005   \n",
            "\n",
            "   systolic  diastolic  mean_bp  heart_rate             condition  \n",
            "0       141         88    105.7          74       Prehypertension  \n",
            "1       161         80    107.0          98       Prehypertension  \n",
            "2       176         70    105.3          70  Hypertension Stage 2  \n",
            "3       113         62     79.0          81                Normal  \n",
            "4        91         83     85.7         103       Prehypertension  \n",
            "   patient_id         name  age sex sensor_id         sensor_type signal_id  \\\n",
            "95       P096  Patient_096   70   F      S096  PressureTransducer    SIG096   \n",
            "96       P097  Patient_097   69   M      S097  PressureTransducer    SIG097   \n",
            "97       P098  Patient_098   51   F      S098  PressureTransducer    SIG098   \n",
            "98       P099  Patient_099   54   M      S099  PressureTransducer    SIG099   \n",
            "99       P100  Patient_100   29   M      S100  PressureTransducer    SIG100   \n",
            "\n",
            "    systolic  diastolic  mean_bp  heart_rate             condition  \n",
            "95       119         97    104.3          97  Hypertension Stage 1  \n",
            "96       140        113    122.0          67  Hypertension Stage 1  \n",
            "97       116         93    100.7          80  Hypertension Stage 1  \n",
            "98       117        106    109.7          92  Hypertension Stage 2  \n",
            "99       150        107    121.3          78  Hypertension Stage 1  \n"
          ]
        }
      ]
    },
    {
      "cell_type": "code",
      "source": [
        "import networkx as nx\n",
        "G = nx.Graph()"
      ],
      "metadata": {
        "id": "M3guVHbZt8To"
      },
      "execution_count": null,
      "outputs": []
    },
    {
      "cell_type": "code",
      "source": [
        "\n",
        "# Step 2: Loop through dataset rows and build relationships\n",
        "for _, row in df.iterrows():\n",
        "    patient = row['patient_id']\n",
        "    sensor = row['sensor_id']\n",
        "    signal = row['signal_id']\n",
        "    condition = row['condition']\n",
        "\n",
        "    #Add nodes\n",
        "    G.add_node(patient, type='Patient')\n",
        "    G.add_node(sensor, type='Sensor')\n",
        "    G.add_node(signal, type='Signal')\n",
        "    G.add_node(condition, type='Condition')\n",
        "\n",
        "    #Add feature nodes\n",
        "    systolic_node = f\"Systolic_{row['systolic']}\"\n",
        "    diastolic_node = f\"Diastolic_{row['diastolic']}\"\n",
        "    hr_node = f\"HeartRate_{row['heart_rate']}\"\n",
        "\n",
        "    G.add_node(systolic_node, type='Feature')\n",
        "    G.add_node(diastolic_node, type='Feature')\n",
        "    G.add_node(hr_node, type='Feature')\n",
        "\n",
        "    #relationships\n",
        "    G.add_edge(patient, sensor, relation='monitored_by')\n",
        "    G.add_edge(sensor, signal, relation='produces')\n",
        "    G.add_edge(signal, systolic_node, relation='has_feature')\n",
        "    G.add_edge(signal, diastolic_node, relation='has_feature')\n",
        "    G.add_edge(signal, hr_node, relation='has_feature')\n",
        "    G.add_edge(systolic_node, condition, relation='indicates')\n",
        "    G.add_edge(diastolic_node, condition, relation='indicates')\n",
        "    G.add_edge(hr_node, condition, relation='indicates')\n"
      ],
      "metadata": {
        "id": "FnNtHjYfPK_y"
      },
      "execution_count": null,
      "outputs": []
    },
    {
      "cell_type": "code",
      "source": [
        "print(\"Total nodes:\", G.number_of_nodes())\n",
        "print(\"Total edges:\", G.number_of_edges())\n",
        "print(\"Node types:\", set(nx.get_node_attributes(G, 'type').values()))\n",
        "\n",
        "# Show sample relationships\n",
        "for u, v, d in list(G.edges(data=True))[:10]:\n",
        "    print(f\"{u} — {d['relation']} —> {v}\")\n"
      ],
      "metadata": {
        "colab": {
          "base_uri": "https://localhost:8080/"
        },
        "id": "em38efoMUtzd",
        "outputId": "92668f0f-d3de-4549-ca06-268ef6ce1d9c"
      },
      "execution_count": null,
      "outputs": [
        {
          "output_type": "stream",
          "name": "stdout",
          "text": [
            "Total nodes: 457\n",
            "Total edges: 722\n",
            "Node types: {'Sensor', 'Patient', 'Feature', 'Condition', 'Signal'}\n",
            "P001 — monitored_by —> S001\n",
            "S001 — produces —> SIG001\n",
            "SIG001 — has_feature —> Systolic_141\n",
            "SIG001 — has_feature —> Diastolic_88\n",
            "SIG001 — has_feature —> HeartRate_74\n",
            "Prehypertension — indicates —> Systolic_141\n",
            "Prehypertension — indicates —> Diastolic_88\n",
            "Prehypertension — indicates —> HeartRate_74\n",
            "Prehypertension — indicates —> Systolic_161\n",
            "Prehypertension — indicates —> Diastolic_80\n"
          ]
        }
      ]
    },
    {
      "cell_type": "code",
      "source": [
        "# Pick a few nodes (first patient's subgraph)\n",
        "sample_patient = df['patient_id'].iloc[0]\n",
        "neighbors = list(G.neighbors(sample_patient))\n",
        "\n",
        "sub_nodes = [sample_patient] + neighbors\n",
        "subgraph = G.subgraph(sub_nodes)\n",
        "\n",
        "plt.figure(figsize=(10,7))\n",
        "pos = nx.spring_layout(subgraph, seed=42)\n",
        "nx.draw(subgraph, pos, with_labels=True, node_size=1200, font_size=9, node_color=\"lightblue\", edge_color=\"gray\")\n",
        "plt.title(f\"Knowledge Graph for {sample_patient}\")\n",
        "plt.show()\n",
        "\n"
      ],
      "metadata": {
        "colab": {
          "base_uri": "https://localhost:8080/",
          "height": 759
        },
        "collapsed": true,
        "id": "xoJ_u8AtU2OB",
        "outputId": "52748a89-8e89-4d09-e7ec-5c37205bec89"
      },
      "execution_count": null,
      "outputs": [
        {
          "output_type": "display_data",
          "data": {
            "text/plain": [
              "<Figure size 1000x700 with 1 Axes>"
            ],
            "image/png": "[encoded data removed]"
          },
          "metadata": {}
        }
      ]
    },
    {
      "cell_type": "code",
      "source": [
        "node = 'S001'  # pick any node you want to explore\n",
        "neighbors = list(G.neighbors(node)) + [node]\n",
        "subgraph = G.subgraph(neighbors)\n",
        "\n",
        "plt.figure(figsize=(10, 8))\n",
        "pos = nx.spring_layout(subgraph, seed=42)\n",
        "nx.draw(subgraph, pos, with_labels=True, node_size=800, font_size=8, node_color='skyblue', edgecolors='k')\n",
        "\n",
        "# show relationship types on edges\n",
        "edge_labels = nx.get_edge_attributes(subgraph, 'relation')\n",
        "nx.draw_networkx_edge_labels(subgraph, pos, edge_labels=edge_labels, font_size=8)\n",
        "\n",
        "plt.show()\n"
      ],
      "metadata": {
        "colab": {
          "base_uri": "https://localhost:8080/",
          "height": 836
        },
        "collapsed": true,
        "id": "T3Ii1kkhUbSI",
        "outputId": "588886e8-091d-452d-9791-e1a34790c5d1"
      },
      "execution_count": null,
      "outputs": [
        {
          "output_type": "display_data",
          "data": {
            "text/plain": [
              "<Figure size 1000x800 with 1 Axes>"
            ],
            "image/png": "[encoded data removed]"
          },
          "metadata": {}
        }
      ]
    },
    {
      "cell_type": "code",
      "source": [
        "# Take a small sample to visualize\n",
        "sub_nodes = list(df['patient_id'][:5])  # First 5 patients\n",
        "subgraph = G.subgraph(nx.neighbors(G, sub_nodes[0]))  # sample view\n",
        "\n",
        "plt.figure(figsize=(10, 7))\n",
        "pos = nx.spring_layout(subgraph, seed=42)\n",
        "nx.draw(subgraph, pos, with_labels=True, node_size=800, font_size=8)\n",
        "plt.show()\n"
      ],
      "metadata": {
        "colab": {
          "base_uri": "https://localhost:8080/",
          "height": 736
        },
        "collapsed": true,
        "id": "yWvClEgMT_S9",
        "outputId": "f645cafa-8898-4a3a-a1ff-7e909da018c7"
      },
      "execution_count": null,
      "outputs": [
        {
          "output_type": "display_data",
          "data": {
            "text/plain": [
              "<Figure size 1000x700 with 1 Axes>"
            ],
            "image/png": "[encoded data removed]"
          },
          "metadata": {}
        }
      ]
    },
    {
      "cell_type": "code",
      "source": [
        "summary = {}\n",
        "condition_nodes = [n for n, attr in G.nodes(data=True) if attr.get('type') == 'Condition']\n",
        "\n",
        "for cond in condition_nodes:\n",
        "    patients = [p for p in df['patient_id'].unique() if nx.has_path(G, p, cond)]\n",
        "    summary[cond] = patients\n",
        "\n",
        "for cond, pats in summary.items():\n",
        "    print(f\"{cond}: {len(pats)} patients -> {pats[:5]}\")\n"
      ],
      "metadata": {
        "colab": {
          "base_uri": "https://localhost:8080/"
        },
        "id": "eZWlkofHlc4F",
        "outputId": "94f1dd72-f59d-4538-822e-9b0af9355c53"
      },
      "execution_count": null,
      "outputs": [
        {
          "output_type": "stream",
          "name": "stdout",
          "text": [
            "Prehypertension: 100 patients -> ['P001', 'P002', 'P003', 'P004', 'P005']\n",
            "Hypertension Stage 2: 100 patients -> ['P001', 'P002', 'P003', 'P004', 'P005']\n",
            "Normal: 100 patients -> ['P001', 'P002', 'P003', 'P004', 'P005']\n",
            "Hypertension Stage 1: 100 patients -> ['P001', 'P002', 'P003', 'P004', 'P005']\n"
          ]
        }
      ]
    },
    {
      "cell_type": "code",
      "source": [
        "target_condition = \"Hypertension Stage 2\"  # pick one from the printed list\n",
        "\n",
        "patients_with_condition = []\n",
        "for patient in df['patient_id'].unique():\n",
        "    if nx.has_path(G, patient, target_condition):\n",
        "        patients_with_condition.append(patient)\n",
        "\n",
        "print(f\"Patients diagnosed with {target_condition}:\")\n",
        "print(patients_with_condition)\n",
        "print(\"Total:\", len(patients_with_condition))\n",
        "\n"
      ],
      "metadata": {
        "id": "NoGNRA2Fl3EG",
        "outputId": "613a0c31-c9d1-4956-9662-1d0aadaa4df0",
        "colab": {
          "base_uri": "https://localhost:8080/"
        }
      },
      "execution_count": null,
      "outputs": [
        {
          "output_type": "stream",
          "name": "stdout",
          "text": [
            "Patients diagnosed with Hypertension Stage 2:\n",
            "['P001', 'P002', 'P003', 'P004', 'P005', 'P006', 'P007', 'P008', 'P009', 'P010', 'P011', 'P012', 'P013', 'P014', 'P015', 'P016', 'P017', 'P018', 'P019', 'P020', 'P021', 'P022', 'P023', 'P024', 'P025', 'P026', 'P027', 'P028', 'P029', 'P030', 'P031', 'P032', 'P033', 'P034', 'P035', 'P036', 'P037', 'P038', 'P039', 'P040', 'P041', 'P042', 'P043', 'P044', 'P045', 'P046', 'P047', 'P048', 'P049', 'P050', 'P051', 'P052', 'P053', 'P054', 'P055', 'P056', 'P057', 'P058', 'P059', 'P060', 'P061', 'P062', 'P063', 'P064', 'P065', 'P066', 'P067', 'P068', 'P069', 'P070', 'P071', 'P072', 'P073', 'P074', 'P075', 'P076', 'P077', 'P078', 'P079', 'P080', 'P081', 'P082', 'P083', 'P084', 'P085', 'P086', 'P087', 'P088', 'P089', 'P090', 'P091', 'P092', 'P093', 'P094', 'P095', 'P096', 'P097', 'P098', 'P099', 'P100']\n",
            "Total: 100\n"
          ]
        }
      ]
    },
    {
      "cell_type": "markdown",
      "source": [],
      "metadata": {
        "id": "8o2T_GraULnJ"
      }
    }
  ]
}